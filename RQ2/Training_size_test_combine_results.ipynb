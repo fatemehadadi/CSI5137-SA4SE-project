{
  "nbformat": 4,
  "nbformat_minor": 0,
  "metadata": {
    "colab": {
      "name": "Training size test - combine results.ipynb",
      "provenance": []
    },
    "kernelspec": {
      "name": "python3",
      "display_name": "Python 3"
    },
    "language_info": {
      "name": "python"
    }
  },
  "cells": [
    {
      "cell_type": "code",
      "execution_count": 4,
      "metadata": {
        "id": "WMsAjtPBarND"
      },
      "outputs": [],
      "source": [
        "import pickle\n",
        "\n",
        "with open('/content/GRU_history.pkl', 'rb') as f:\n",
        "    GRU_history = pickle.load(f)\n",
        "\n",
        "with open('/content/LSTM_history.pkl', 'rb') as f:\n",
        "    LSTM_history = pickle.load(f)"
      ]
    },
    {
      "cell_type": "code",
      "source": [
        "GRU_history = [i*100 for i in GRU_history]\n",
        "LSTM_history = [i*100 for i in LSTM_history]"
      ],
      "metadata": {
        "id": "6A3nehX6f08c"
      },
      "execution_count": 7,
      "outputs": []
    },
    {
      "cell_type": "code",
      "source": [
        "# Importing packages\n",
        "import matplotlib.pyplot as plt\n",
        "\n",
        "# Define data values\n",
        "x = [str(i)+'%' for i in range(10, 110, 10)]\n",
        "y = GRU_history\n",
        "z = LSTM_history\n",
        "\n",
        "# Plot a simple line chart\n",
        "plt.plot(x, y, label = 'GRU-based', linestyle='-', marker='^', color = '#3377FF')\n",
        "\n",
        "# Plot another line on the same chart/graph\n",
        "plt.plot(x, z, label = 'LSTM-based', linestyle='-', marker='s', color = '#15B01A')\n",
        "\n",
        "plt.ylim([0, 100])\n",
        "plt.ylabel('Testing accuracy')\n",
        "plt.xlabel('Tranining size')\n",
        "plt.legend(loc = 'lower right')\n",
        "#plt.show()\n",
        "plt.savefig('RQ2.png')"
      ],
      "metadata": {
        "colab": {
          "base_uri": "https://localhost:8080/",
          "height": 283
        },
        "id": "KOSRDBmUbQuQ",
        "outputId": "121ee11c-e006-431d-b9dc-cd802fbf2f9a"
      },
      "execution_count": 12,
      "outputs": [
        {
          "output_type": "display_data",
          "data": {
            "image/png": "[encoded data removed]",
            "text/plain": [
              "<Figure size 432x288 with 1 Axes>"
            ]
          },
          "metadata": {
            "needs_background": "light"
          }
        }
      ]
    }
  ]
}