{
  "nbformat": 4,
  "nbformat_minor": 0,
  "metadata": {
    "colab": {
      "name": "CSI5137_LSTM_based_Model.ipynb",
      "provenance": [],
      "toc_visible": true
    },
    "kernelspec": {
      "name": "python3",
      "display_name": "Python 3"
    },
    "language_info": {
      "name": "python"
    }
  },
  "cells": [
    {
      "cell_type": "markdown",
      "source": [
        "This jupyter nodebook is for implementation of the proposed method based on LSTM and evaluate the prformance of it with the Stack Overflow comments dataset."
      ],
      "metadata": {
        "id": "d_O4sGPh8JUR"
      }
    },
    {
      "cell_type": "markdown",
      "source": [
        "# Load data"
      ],
      "metadata": {
        "id": "Rbgo8IbD8KpU"
      }
    },
    {
      "cell_type": "code",
      "metadata": {
        "colab": {
          "base_uri": "https://localhost:8080/"
        },
        "id": "PSsLMO_FBhiP",
        "outputId": "b4dc8298-cb3c-4fb8-a036-1d0eebb64b17"
      },
      "source": [
        "from google.colab import drive\n",
        "drive.mount('/content/drive', force_remount=True)"
      ],
      "execution_count": 1,
      "outputs": [
        {
          "output_type": "stream",
          "name": "stdout",
          "text": [
            "Mounted at /content/drive\n"
          ]
        }
      ]
    },
    {
      "cell_type": "code",
      "metadata": {
        "colab": {
          "base_uri": "https://localhost:8080/"
        },
        "id": "tBr5eUCxB_PZ",
        "outputId": "36739128-7100-429a-e33a-156f4384ca4d"
      },
      "source": [
        "!unzip /content/drive/MyDrive/SE\\ project/dataset/EMTK_datasets-v1.0.zip"
      ],
      "execution_count": 2,
      "outputs": [
        {
          "output_type": "stream",
          "name": "stdout",
          "text": [
            "Archive:  /content/drive/MyDrive/SE project/dataset/EMTK_datasets-v1.0.zip\n",
            "c200f78878252a3779c76f19be2f0230c38ef00b\n",
            "   creating: collab-uniba-EMTK_datasets-c200f78/\n",
            "  inflating: collab-uniba-EMTK_datasets-c200f78/LICENSE  \n",
            "  inflating: collab-uniba-EMTK_datasets-c200f78/README.md  \n",
            "   creating: collab-uniba-EMTK_datasets-c200f78/jira/\n",
            "   creating: collab-uniba-EMTK_datasets-c200f78/jira/emotions/\n",
            "  inflating: collab-uniba-EMTK_datasets-c200f78/jira/emotions/README.md  \n",
            "  inflating: collab-uniba-EMTK_datasets-c200f78/jira/emotions/anger.csv  \n",
            "  inflating: collab-uniba-EMTK_datasets-c200f78/jira/emotions/joy.csv  \n",
            "  inflating: collab-uniba-EMTK_datasets-c200f78/jira/emotions/love.csv  \n",
            "  inflating: collab-uniba-EMTK_datasets-c200f78/jira/emotions/sadness.csv  \n",
            "   creating: collab-uniba-EMTK_datasets-c200f78/so/\n",
            "   creating: collab-uniba-EMTK_datasets-c200f78/so/emotions/\n",
            "  inflating: collab-uniba-EMTK_datasets-c200f78/so/emotions/Emotion Annotation Guidelines.pdf  \n",
            "  inflating: collab-uniba-EMTK_datasets-c200f78/so/emotions/Emotions_GoldSandard_andAnnotation.xlsx  \n",
            "  inflating: collab-uniba-EMTK_datasets-c200f78/so/emotions/README.md  \n",
            "   creating: collab-uniba-EMTK_datasets-c200f78/so/polarity/\n",
            "  inflating: collab-uniba-EMTK_datasets-c200f78/so/polarity/README.md  \n",
            "  inflating: collab-uniba-EMTK_datasets-c200f78/so/polarity/test1326itemPOLARITY.csv  \n",
            "  inflating: collab-uniba-EMTK_datasets-c200f78/so/polarity/train3098itemPOLARITY.csv  \n"
          ]
        }
      ]
    },
    {
      "cell_type": "code",
      "metadata": {
        "id": "ArWqQX1MCX2S"
      },
      "source": [
        "import pandas as pd\n",
        "df = pd.read_excel('/content/collab-uniba-EMTK_datasets-c200f78/so/emotions/Emotions_GoldSandard_andAnnotation.xlsx',sheet_name=None)"
      ],
      "execution_count": 3,
      "outputs": []
    },
    {
      "cell_type": "code",
      "metadata": {
        "colab": {
          "base_uri": "https://localhost:8080/"
        },
        "id": "t1mMC9KHDvBI",
        "outputId": "929390c0-0699-4643-e4a8-26cc0485215a"
      },
      "source": [
        "df"
      ],
      "execution_count": 4,
      "outputs": [
        {
          "output_type": "execute_result",
          "data": {
            "text/plain": [
              "{'Anger_all':      Group     Set  Unnamed: 2  ... Gold Label Unnamed: 8 Unnamed: 9\n",
              " 0        A  Second           1  ...        NaN        NaN        NaN\n",
              " 1        A  Second           2  ...        NaN        NaN        NaN\n",
              " 2        A  Second           3  ...        NaN        NaN        NaN\n",
              " 3        A  Second           4  ...        NaN        NaN        NaN\n",
              " 4        A  Second           5  ...        NaN        NaN        NaN\n",
              " ...    ...     ...         ...  ...        ...        ...        ...\n",
              " 4795     D   Third         496  ...        NaN        NaN        NaN\n",
              " 4796     D   Third         497  ...        NaN        NaN        NaN\n",
              " 4797     D   Third         498  ...        NaN        NaN        NaN\n",
              " 4798     D   Third         499  ...        NaN        NaN        NaN\n",
              " 4799     D   Third         500  ...        NaN        NaN        NaN\n",
              " \n",
              " [4800 rows x 10 columns],\n",
              " 'Fear_all':      Group     Set  Unnamed: 2  ... Gold Label Unnamed: 8 Unnamed: 9\n",
              " 0        A  Second           1  ...        NaN        NaN        NaN\n",
              " 1        A  Second           2  ...        NaN        NaN        NaN\n",
              " 2        A  Second           3  ...        NaN        NaN        NaN\n",
              " 3        A  Second           4  ...        NaN        NaN        NaN\n",
              " 4        A  Second           5  ...        NaN        NaN        NaN\n",
              " ...    ...     ...         ...  ...        ...        ...        ...\n",
              " 4795     D   Third         496  ...        NaN        NaN        NaN\n",
              " 4796     D   Third         497  ...        NaN        NaN        NaN\n",
              " 4797     D   Third         498  ...        NaN        NaN        NaN\n",
              " 4798     D   Third         499  ...        NaN        NaN        NaN\n",
              " 4799     D   Third         500  ...        NaN        NaN        NaN\n",
              " \n",
              " [4800 rows x 10 columns],\n",
              " 'Joy_all':      Group     Set  Unnamed: 2  ... Gold Label Unnamed: 8 Unnamed: 9\n",
              " 0        A  Second           1  ...        NaN        NaN        NaN\n",
              " 1        A  Second           2  ...        NaN        NaN        NaN\n",
              " 2        A  Second           3  ...        NaN        NaN        NaN\n",
              " 3        A  Second           4  ...        NaN        NaN        NaN\n",
              " 4        A  Second           5  ...        NaN        NaN        NaN\n",
              " ...    ...     ...         ...  ...        ...        ...        ...\n",
              " 4795     D   Third         496  ...        JOY        NaN        NaN\n",
              " 4796     D   Third         497  ...        NaN        NaN        NaN\n",
              " 4797     D   Third         498  ...        NaN        NaN        NaN\n",
              " 4798     D   Third         499  ...        NaN        NaN        NaN\n",
              " 4799     D   Third         500  ...        NaN        NaN        NaN\n",
              " \n",
              " [4800 rows x 10 columns],\n",
              " 'Love_all':      Group     Set  Unnamed: 2  ... Gold Label Unnamed: 8 Unnamed: 9\n",
              " 0        A  Second           1  ...       LOVE        NaN        NaN\n",
              " 1        A  Second           2  ...       LOVE        NaN        NaN\n",
              " 2        A  Second           3  ...        NaN        NaN        NaN\n",
              " 3        A  Second           4  ...        NaN        NaN        NaN\n",
              " 4        A  Second           5  ...        NaN        NaN        NaN\n",
              " ...    ...     ...         ...  ...        ...        ...        ...\n",
              " 4795     D   Third         496  ...        NaN        NaN        NaN\n",
              " 4796     D   Third         497  ...       LOVE        NaN        NaN\n",
              " 4797     D   Third         498  ...        NaN        NaN        NaN\n",
              " 4798     D   Third         499  ...       LOVE        NaN        NaN\n",
              " 4799     D   Third         500  ...        NaN        NaN        NaN\n",
              " \n",
              " [4800 rows x 10 columns],\n",
              " 'Sadness_all':      Group     Set  Unnamed: 2  ... Gold Label Unnamed: 8 Unnamed: 9\n",
              " 0        A  Second           1  ...        NaN        NaN        NaN\n",
              " 1        A  Second           2  ...        NaN        NaN        NaN\n",
              " 2        A  Second           3  ...        NaN        NaN        NaN\n",
              " 3        A  Second           4  ...    SADNESS        NaN        NaN\n",
              " 4        A  Second           5  ...        NaN        NaN        NaN\n",
              " ...    ...     ...         ...  ...        ...        ...        ...\n",
              " 4795     D   Third         496  ...        NaN        NaN        NaN\n",
              " 4796     D   Third         497  ...        NaN        NaN        NaN\n",
              " 4797     D   Third         498  ...        NaN        NaN        NaN\n",
              " 4798     D   Third         499  ...        NaN        NaN        NaN\n",
              " 4799     D   Third         500  ...        NaN        NaN        NaN\n",
              " \n",
              " [4800 rows x 10 columns],\n",
              " 'Surprise_all':      Group     Set  Unnamed: 2  ... Gold Label Unnamed: 8 Unnamed: 9\n",
              " 0        A  Second           1  ...        NaN        NaN        NaN\n",
              " 1        A  Second           2  ...        NaN        NaN        NaN\n",
              " 2        A  Second           3  ...        NaN        NaN        NaN\n",
              " 3        A  Second           4  ...        NaN        NaN        NaN\n",
              " 4        A  Second           5  ...        NaN        NaN        NaN\n",
              " ...    ...     ...         ...  ...        ...        ...        ...\n",
              " 4795     D   Third         496  ...        NaN        NaN        NaN\n",
              " 4796     D   Third         497  ...        NaN        NaN        NaN\n",
              " 4797     D   Third         498  ...        NaN        NaN        NaN\n",
              " 4798     D   Third         499  ...        NaN        NaN        NaN\n",
              " 4799     D   Third         500  ...        NaN        NaN        NaN\n",
              " \n",
              " [4800 rows x 10 columns]}"
            ]
          },
          "metadata": {},
          "execution_count": 4
        }
      ]
    },
    {
      "cell_type": "code",
      "metadata": {
        "colab": {
          "base_uri": "https://localhost:8080/",
          "height": 0
        },
        "id": "mioJoc2uDMTH",
        "outputId": "25f013d3-fb18-4e5c-af7c-677498d3f6b9"
      },
      "source": [
        "df[\"Love_all\"]"
      ],
      "execution_count": 5,
      "outputs": [
        {
          "output_type": "execute_result",
          "data": {
            "text/html": [
              "\n",
              "  <div id=\"df-5edc1eab-93fb-4c93-812e-fbec51260653\">\n",
              "    <div class=\"colab-df-container\">\n",
              "      <div>\n",
              "<style scoped>\n",
              "    .dataframe tbody tr th:only-of-type {\n",
              "        vertical-align: middle;\n",
              "    }\n",
              "\n",
              "    .dataframe tbody tr th {\n",
              "        vertical-align: top;\n",
              "    }\n",
              "\n",
              "    .dataframe thead th {\n",
              "        text-align: right;\n",
              "    }\n",
              "</style>\n",
              "<table border=\"1\" class=\"dataframe\">\n",
              "  <thead>\n",
              "    <tr style=\"text-align: right;\">\n",
              "      <th></th>\n",
              "      <th>Group</th>\n",
              "      <th>Set</th>\n",
              "      <th>Unnamed: 2</th>\n",
              "      <th>Text</th>\n",
              "      <th>rater 1</th>\n",
              "      <th>rater 2</th>\n",
              "      <th>rater 3</th>\n",
              "      <th>Gold Label</th>\n",
              "      <th>Unnamed: 8</th>\n",
              "      <th>Unnamed: 9</th>\n",
              "    </tr>\n",
              "  </thead>\n",
              "  <tbody>\n",
              "    <tr>\n",
              "      <th>0</th>\n",
              "      <td>A</td>\n",
              "      <td>Second</td>\n",
              "      <td>1</td>\n",
              "      <td>SVG transform on text attribute works excellen...</td>\n",
              "      <td>X</td>\n",
              "      <td>NaN</td>\n",
              "      <td>X</td>\n",
              "      <td>LOVE</td>\n",
              "      <td>NaN</td>\n",
              "      <td>NaN</td>\n",
              "    </tr>\n",
              "    <tr>\n",
              "      <th>1</th>\n",
              "      <td>A</td>\n",
              "      <td>Second</td>\n",
              "      <td>2</td>\n",
              "      <td>Excellent! This is exactly what I needed. Thanks!</td>\n",
              "      <td>X</td>\n",
              "      <td>x</td>\n",
              "      <td>X</td>\n",
              "      <td>LOVE</td>\n",
              "      <td>NaN</td>\n",
              "      <td>NaN</td>\n",
              "    </tr>\n",
              "    <tr>\n",
              "      <th>2</th>\n",
              "      <td>A</td>\n",
              "      <td>Second</td>\n",
              "      <td>3</td>\n",
              "      <td>Have added a modern solution as of May 2014 in...</td>\n",
              "      <td>NaN</td>\n",
              "      <td>NaN</td>\n",
              "      <td>NaN</td>\n",
              "      <td>NaN</td>\n",
              "      <td>NaN</td>\n",
              "      <td>NaN</td>\n",
              "    </tr>\n",
              "    <tr>\n",
              "      <th>3</th>\n",
              "      <td>A</td>\n",
              "      <td>Second</td>\n",
              "      <td>4</td>\n",
              "      <td>Have you tried removing 'preload' attribute? (...</td>\n",
              "      <td>NaN</td>\n",
              "      <td>NaN</td>\n",
              "      <td>NaN</td>\n",
              "      <td>NaN</td>\n",
              "      <td>NaN</td>\n",
              "      <td>NaN</td>\n",
              "    </tr>\n",
              "    <tr>\n",
              "      <th>4</th>\n",
              "      <td>A</td>\n",
              "      <td>Second</td>\n",
              "      <td>5</td>\n",
              "      <td>A smarter, entirely C++-way of doing what you ...</td>\n",
              "      <td>NaN</td>\n",
              "      <td>NaN</td>\n",
              "      <td>NaN</td>\n",
              "      <td>NaN</td>\n",
              "      <td>NaN</td>\n",
              "      <td>NaN</td>\n",
              "    </tr>\n",
              "    <tr>\n",
              "      <th>...</th>\n",
              "      <td>...</td>\n",
              "      <td>...</td>\n",
              "      <td>...</td>\n",
              "      <td>...</td>\n",
              "      <td>...</td>\n",
              "      <td>...</td>\n",
              "      <td>...</td>\n",
              "      <td>...</td>\n",
              "      <td>...</td>\n",
              "      <td>...</td>\n",
              "    </tr>\n",
              "    <tr>\n",
              "      <th>4795</th>\n",
              "      <td>D</td>\n",
              "      <td>Third</td>\n",
              "      <td>496</td>\n",
              "      <td>Yes - that feature is extremely useful for wri...</td>\n",
              "      <td>NaN</td>\n",
              "      <td>NaN</td>\n",
              "      <td>x</td>\n",
              "      <td>NaN</td>\n",
              "      <td>NaN</td>\n",
              "      <td>NaN</td>\n",
              "    </tr>\n",
              "    <tr>\n",
              "      <th>4796</th>\n",
              "      <td>D</td>\n",
              "      <td>Third</td>\n",
              "      <td>497</td>\n",
              "      <td>Works great! And you can add \"desc\" after the ...</td>\n",
              "      <td>x</td>\n",
              "      <td>NaN</td>\n",
              "      <td>x</td>\n",
              "      <td>LOVE</td>\n",
              "      <td>NaN</td>\n",
              "      <td>NaN</td>\n",
              "    </tr>\n",
              "    <tr>\n",
              "      <th>4797</th>\n",
              "      <td>D</td>\n",
              "      <td>Third</td>\n",
              "      <td>498</td>\n",
              "      <td>Yeah, I didn't know about the non-greedy thing...</td>\n",
              "      <td>x</td>\n",
              "      <td>NaN</td>\n",
              "      <td>NaN</td>\n",
              "      <td>NaN</td>\n",
              "      <td>NaN</td>\n",
              "      <td>NaN</td>\n",
              "    </tr>\n",
              "    <tr>\n",
              "      <th>4798</th>\n",
              "      <td>D</td>\n",
              "      <td>Third</td>\n",
              "      <td>499</td>\n",
              "      <td>Fortunately I'm doing *very* little with Offic...</td>\n",
              "      <td>x</td>\n",
              "      <td>X</td>\n",
              "      <td>x</td>\n",
              "      <td>LOVE</td>\n",
              "      <td>NaN</td>\n",
              "      <td>NaN</td>\n",
              "    </tr>\n",
              "    <tr>\n",
              "      <th>4799</th>\n",
              "      <td>D</td>\n",
              "      <td>Third</td>\n",
              "      <td>500</td>\n",
              "      <td>Another very fast approach is the [seek method...</td>\n",
              "      <td>x</td>\n",
              "      <td>NaN</td>\n",
              "      <td>NaN</td>\n",
              "      <td>NaN</td>\n",
              "      <td>NaN</td>\n",
              "      <td>NaN</td>\n",
              "    </tr>\n",
              "  </tbody>\n",
              "</table>\n",
              "<p>4800 rows × 10 columns</p>\n",
              "</div>\n",
              "      <button class=\"colab-df-convert\" onclick=\"convertToInteractive('df-5edc1eab-93fb-4c93-812e-fbec51260653')\"\n",
              "              title=\"Convert this dataframe to an interactive table.\"\n",
              "              style=\"display:none;\">\n",
              "        \n",
              "  <svg xmlns=\"http://www.w3.org/2000/svg\" height=\"24px\"viewBox=\"0 0 24 24\"\n",
              "       width=\"24px\">\n",
              "    <path d=\"M0 0h24v24H0V0z\" fill=\"none\"/>\n",
              "    <path d=\"M18.56 5.44l.94 2.06.94-2.06 2.06-.94-2.06-.94-.94-2.06-.94 2.06-2.06.94zm-11 1L8.5 8.5l.94-2.06 2.06-.94-2.06-.94L8.5 2.5l-.94 2.06-2.06.94zm10 10l.94 2.06.94-2.06 2.06-.94-2.06-.94-.94-2.06-.94 2.06-2.06.94z\"/><path d=\"M17.41 7.96l-1.37-1.37c-.4-.4-.92-.59-1.43-.59-.52 0-1.04.2-1.43.59L10.3 9.45l-7.72 7.72c-.78.78-.78 2.05 0 2.83L4 21.41c.39.39.9.59 1.41.59.51 0 1.02-.2 1.41-.59l7.78-7.78 2.81-2.81c.8-.78.8-2.07 0-2.86zM5.41 20L4 18.59l7.72-7.72 1.47 1.35L5.41 20z\"/>\n",
              "  </svg>\n",
              "      </button>\n",
              "      \n",
              "  <style>\n",
              "    .colab-df-container {\n",
              "      display:flex;\n",
              "      flex-wrap:wrap;\n",
              "      gap: 12px;\n",
              "    }\n",
              "\n",
              "    .colab-df-convert {\n",
              "      background-color: #E8F0FE;\n",
              "      border: none;\n",
              "      border-radius: 50%;\n",
              "      cursor: pointer;\n",
              "      display: none;\n",
              "      fill: #1967D2;\n",
              "      height: 32px;\n",
              "      padding: 0 0 0 0;\n",
              "      width: 32px;\n",
              "    }\n",
              "\n",
              "    .colab-df-convert:hover {\n",
              "      background-color: #E2EBFA;\n",
              "      box-shadow: 0px 1px 2px rgba(60, 64, 67, 0.3), 0px 1px 3px 1px rgba(60, 64, 67, 0.15);\n",
              "      fill: #174EA6;\n",
              "    }\n",
              "\n",
              "    [theme=dark] .colab-df-convert {\n",
              "      background-color: #3B4455;\n",
              "      fill: #D2E3FC;\n",
              "    }\n",
              "\n",
              "    [theme=dark] .colab-df-convert:hover {\n",
              "      background-color: #434B5C;\n",
              "      box-shadow: 0px 1px 3px 1px rgba(0, 0, 0, 0.15);\n",
              "      filter: drop-shadow(0px 1px 2px rgba(0, 0, 0, 0.3));\n",
              "      fill: #FFFFFF;\n",
              "    }\n",
              "  </style>\n",
              "\n",
              "      <script>\n",
              "        const buttonEl =\n",
              "          document.querySelector('#df-5edc1eab-93fb-4c93-812e-fbec51260653 button.colab-df-convert');\n",
              "        buttonEl.style.display =\n",
              "          google.colab.kernel.accessAllowed ? 'block' : 'none';\n",
              "\n",
              "        async function convertToInteractive(key) {\n",
              "          const element = document.querySelector('#df-5edc1eab-93fb-4c93-812e-fbec51260653');\n",
              "          const dataTable =\n",
              "            await google.colab.kernel.invokeFunction('convertToInteractive',\n",
              "                                                     [key], {});\n",
              "          if (!dataTable) return;\n",
              "\n",
              "          const docLinkHtml = 'Like what you see? Visit the ' +\n",
              "            '<a target=\"_blank\" href=https://colab.research.google.com/notebooks/data_table.ipynb>data table notebook</a>'\n",
              "            + ' to learn more about interactive tables.';\n",
              "          element.innerHTML = '';\n",
              "          dataTable['output_type'] = 'display_data';\n",
              "          await google.colab.output.renderOutput(dataTable, element);\n",
              "          const docLink = document.createElement('div');\n",
              "          docLink.innerHTML = docLinkHtml;\n",
              "          element.appendChild(docLink);\n",
              "        }\n",
              "      </script>\n",
              "    </div>\n",
              "  </div>\n",
              "  "
            ],
            "text/plain": [
              "     Group     Set  Unnamed: 2  ... Gold Label Unnamed: 8 Unnamed: 9\n",
              "0        A  Second           1  ...       LOVE        NaN        NaN\n",
              "1        A  Second           2  ...       LOVE        NaN        NaN\n",
              "2        A  Second           3  ...        NaN        NaN        NaN\n",
              "3        A  Second           4  ...        NaN        NaN        NaN\n",
              "4        A  Second           5  ...        NaN        NaN        NaN\n",
              "...    ...     ...         ...  ...        ...        ...        ...\n",
              "4795     D   Third         496  ...        NaN        NaN        NaN\n",
              "4796     D   Third         497  ...       LOVE        NaN        NaN\n",
              "4797     D   Third         498  ...        NaN        NaN        NaN\n",
              "4798     D   Third         499  ...       LOVE        NaN        NaN\n",
              "4799     D   Third         500  ...        NaN        NaN        NaN\n",
              "\n",
              "[4800 rows x 10 columns]"
            ]
          },
          "metadata": {},
          "execution_count": 5
        }
      ]
    },
    {
      "cell_type": "code",
      "metadata": {
        "id": "Kxq2ahs_D55P"
      },
      "source": [
        "text = []\n",
        "neutral_emotional = []\n",
        "label_sets = []\n",
        "\n",
        "for i in range(4800):\n",
        "  \n",
        "  label = 0\n",
        "  label_set = []\n",
        "  for sheet in ['Love_all', 'Joy_all', 'Anger_all', 'Sadness_all', 'Fear_all', 'Surprise_all']:\n",
        "    gold_label = df[sheet].loc[i].iat[7]\n",
        "    if gold_label in ['LOVE', 'JOY', 'ANGER', 'SADNESS', 'FEAR', 'SURPRISE']:\n",
        "      label = 1\n",
        "      label_set.append(gold_label)\n",
        "  if not 'SURPRISE' in label_set:\n",
        "    neutral_emotional.append(label)\n",
        "    label_sets.append(label_set)\n",
        "    text.append(df['Love_all'].loc[i].iat[3])\n",
        "  "
      ],
      "execution_count": 6,
      "outputs": []
    },
    {
      "cell_type": "code",
      "metadata": {
        "id": "IiSCS3Mxg0zA"
      },
      "source": [
        "def not_both(label_set,i):\n",
        "  positive = ['LOVE','JOY']\n",
        "  negative = ['SADNESS', 'FEAR', 'ANGER']\n",
        "  is_positive = False\n",
        "  is_negative = False\n",
        "  for label in label_set:\n",
        "    if label in positive:\n",
        "      is_positive = True\n",
        "    elif label in negative:\n",
        "      is_negative = True\n",
        "  if is_negative and is_positive:\n",
        "    return False\n",
        "  else:\n",
        "    return True\n",
        "\n",
        "def find_semantic(label_set):\n",
        "  positive = ['LOVE','JOY']\n",
        "  negative = ['SADNESS', 'FEAR', 'ANGER']\n",
        "  if label_set[0] in positive:\n",
        "    return 1\n",
        "  return 0"
      ],
      "execution_count": 7,
      "outputs": []
    },
    {
      "cell_type": "code",
      "metadata": {
        "id": "sVfodv6Dcm8W"
      },
      "source": [
        "text_semantic = []\n",
        "semantic = []\n",
        "\n",
        "for i in range(4755):\n",
        "  if neutral_emotional[i]:\n",
        "    if not_both(label_sets[i],i):\n",
        "      text_semantic.append(text[i])\n",
        "      semantic.append(find_semantic(label_sets[i]))\n"
      ],
      "execution_count": 8,
      "outputs": []
    },
    {
      "cell_type": "code",
      "metadata": {
        "id": "dcUWip-WlGFt"
      },
      "source": [
        "text_all = []\n",
        "three_cat = []\n",
        "\n",
        "for i in range(4755):\n",
        "  if neutral_emotional[i]==0:\n",
        "    text_all.append(text[i])\n",
        "    three_cat.append('Neutral')\n",
        "for i in range(len(text_semantic)):\n",
        "  text_all.append(text_semantic[i])\n",
        "  if semantic[i]:\n",
        "    three_cat.append('Positive')\n",
        "  else:\n",
        "    three_cat.append('Negative')"
      ],
      "execution_count": 9,
      "outputs": []
    },
    {
      "cell_type": "code",
      "source": [
        "len(text_all)"
      ],
      "metadata": {
        "colab": {
          "base_uri": "https://localhost:8080/"
        },
        "id": "muMmkfO74RTr",
        "outputId": "b669b875-0b26-4082-a2ee-a3bf4edb9b87"
      },
      "execution_count": 10,
      "outputs": [
        {
          "output_type": "execute_result",
          "data": {
            "text/plain": [
              "4730"
            ]
          },
          "metadata": {},
          "execution_count": 10
        }
      ]
    },
    {
      "cell_type": "markdown",
      "metadata": {
        "id": "ThoTEPk7xoK3"
      },
      "source": [
        "# Model design"
      ]
    },
    {
      "cell_type": "code",
      "metadata": {
        "id": "wvPs_TW45uhC"
      },
      "source": [
        "import io\n",
        "import os\n",
        "import re\n",
        "import shutil\n",
        "import string\n",
        "import tensorflow as tf\n",
        "import numpy as np\n",
        "\n",
        "from tensorflow.keras import Sequential\n",
        "from tensorflow.keras.layers import Dense, Embedding, GlobalAveragePooling1D, LSTM, Bidirectional\n",
        "from tensorflow.keras.layers import TextVectorization\n",
        "from keras.callbacks import ModelCheckpoint"
      ],
      "execution_count": 11,
      "outputs": []
    },
    {
      "cell_type": "code",
      "metadata": {
        "colab": {
          "base_uri": "https://localhost:8080/"
        },
        "id": "RyGXUB1d4iTS",
        "outputId": "94452b00-c18b-481c-eb38-8ffe64d93b2c"
      },
      "source": [
        "from numpy import array\n",
        "from numpy import argmax\n",
        "from sklearn.preprocessing import LabelEncoder\n",
        "from sklearn.preprocessing import OneHotEncoder\n",
        "# define example\n",
        "data = three_cat\n",
        "values = array(data)\n",
        "print(values)\n",
        "# integer encode\n",
        "label_encoder = LabelEncoder()\n",
        "integer_encoded = label_encoder.fit_transform(values)\n",
        "print(integer_encoded)\n",
        "# binary encode\n",
        "onehot_encoder = OneHotEncoder(sparse=False)\n",
        "integer_encoded = integer_encoded.reshape(len(integer_encoded), 1)\n",
        "onehot_encoded = onehot_encoder.fit_transform(integer_encoded)\n",
        "print(onehot_encoded)"
      ],
      "execution_count": 12,
      "outputs": [
        {
          "output_type": "stream",
          "name": "stdout",
          "text": [
            "['Neutral' 'Neutral' 'Neutral' ... 'Positive' 'Positive' 'Positive']\n",
            "[1 1 1 ... 2 2 2]\n",
            "[[0. 1. 0.]\n",
            " [0. 1. 0.]\n",
            " [0. 1. 0.]\n",
            " ...\n",
            " [0. 0. 1.]\n",
            " [0. 0. 1.]\n",
            " [0. 0. 1.]]\n"
          ]
        }
      ]
    },
    {
      "cell_type": "code",
      "metadata": {
        "colab": {
          "base_uri": "https://localhost:8080/"
        },
        "id": "p3eLp3pM3fHL",
        "outputId": "31b2f0ea-5a53-4f3b-f130-ff86ab226ffe"
      },
      "source": [
        "len(text_all)*0.7"
      ],
      "execution_count": 13,
      "outputs": [
        {
          "output_type": "execute_result",
          "data": {
            "text/plain": [
              "3311.0"
            ]
          },
          "metadata": {},
          "execution_count": 13
        }
      ]
    },
    {
      "cell_type": "code",
      "metadata": {
        "id": "ttIgFBH83f85"
      },
      "source": [
        "from keras.preprocessing.text import Tokenizer\n",
        "from keras.preprocessing. sequence import pad_sequences\n",
        "\n",
        "maxlen = 100 # cut point in the review\n",
        "training_samples = 3311 # train size\n",
        "validation_samples = 4730-3311 # Validates size\n",
        "max_words = 10000 # Considers only the top 10000 words in the dataset\n",
        "\n",
        "tokenizer = Tokenizer(num_words=max_words)\n",
        "tokenizer.fit_on_texts(text_all)\n",
        "sequences = tokenizer.texts_to_sequences(text_all)\n",
        "word_index = tokenizer.word_index               \n",
        "\n",
        "data = pad_sequences(sequences, maxlen=maxlen)\n",
        "\n",
        "labels = np.asarray(onehot_encoded)\n",
        "\n",
        "indices = np.arange(data.shape[0]) # Splits data into training and validation set, but shuffles is, since samples are ordered: \n",
        "# all negatives first, then all positive\n",
        "np.random.shuffle(indices)\n",
        "data = data[indices]\n",
        "labels = labels[indices]\n",
        "labels = np.asarray(labels).astype(np.float32)\n",
        "\n",
        "X_train = data[:training_samples] \n",
        "y_train = labels[:training_samples]\n",
        "X_test = data[training_samples:training_samples+validation_samples] \n",
        "y_test = labels[training_samples:training_samples+validation_samples]"
      ],
      "execution_count": 14,
      "outputs": []
    },
    {
      "cell_type": "code",
      "metadata": {
        "colab": {
          "base_uri": "https://localhost:8080/"
        },
        "id": "Hceo-Uii3f85",
        "outputId": "6d0ce940-5731-410e-ce94-00be641ad973"
      },
      "source": [
        "# word embedding subsection\n",
        "embeddings_index = {}\n",
        "\n",
        "f = open(\"drive/MyDrive/glove.6B.100d.txt\", encoding='utf-8') #added , encoding='utf-8'\n",
        "for line in f:\n",
        "    values = line.split()\n",
        "    word = values[0]\n",
        "    coefs = np.asarray(values[1:], dtype=\"float32\")\n",
        "    embeddings_index[word] = coefs\n",
        "f.close()\n",
        "\n",
        "print(\"found %s word vectors.\" % len (embeddings_index))"
      ],
      "execution_count": 15,
      "outputs": [
        {
          "output_type": "stream",
          "name": "stdout",
          "text": [
            "found 400000 word vectors.\n"
          ]
        }
      ]
    },
    {
      "cell_type": "code",
      "metadata": {
        "id": "k-l7w32n3f86"
      },
      "source": [
        "embedding_dim = 100 # GloVe contains 100-dimensional embedding vectors for 400.000 words\n",
        "\n",
        "embedding_matrix = np.zeros((max_words, embedding_dim)) # embedding_matrix.shape (10000, 100)\n",
        "for word, i in word_index.items():\n",
        "    if i < max_words:\n",
        "        embedding_vector = embeddings_index.get(word) # embedding_vector.shape (100,)\n",
        "        if embedding_vector is not None:\n",
        "            embedding_matrix[i] = embedding_vector # Words not found in the mebedding index will all be zeros"
      ],
      "execution_count": 16,
      "outputs": []
    },
    {
      "cell_type": "code",
      "metadata": {
        "id": "1Y1wBnr43f86"
      },
      "source": [
        "from keras.models import Sequential\n",
        "from keras.layers import Embedding\n",
        "from keras.layers import LSTM, GRU\n",
        "from keras.layers import Flatten, Dense\n",
        "from keras.callbacks import ModelCheckpoint\n",
        "histories = []"
      ],
      "execution_count": 17,
      "outputs": []
    },
    {
      "cell_type": "code",
      "source": [
        "d= 80\n",
        "\n",
        "# built the model\n",
        "model = Sequential()\n",
        "model.add(Embedding(max_words, embedding_dim, input_length = maxlen))\n",
        "model.add(LSTM(d, dropout = 0.3))\n",
        "model.add(Dense(3, activation = \"softmax\"))\n",
        "model.layers[0].set_weights([embedding_matrix])\n",
        "model.layers[0].trainable = False\n",
        "\n",
        "# compile\n",
        "model.compile(optimizer = \"rmsprop\",\n",
        "            loss = \"categorical_crossentropy\",\n",
        "            metrics = [\"acc\"])"
      ],
      "metadata": {
        "id": "RN1JgCTz9Upe"
      },
      "execution_count": 18,
      "outputs": []
    },
    {
      "cell_type": "markdown",
      "source": [
        "# Test the model performance"
      ],
      "metadata": {
        "id": "bar2P68S9ZGM"
      }
    },
    {
      "cell_type": "code",
      "metadata": {
        "colab": {
          "base_uri": "https://localhost:8080/"
        },
        "outputId": "46ebe913-2afa-4276-e3e9-5b3f10712e3c",
        "id": "Dr3XtNL8Az96"
      },
      "source": [
        "# fit the model\n",
        "mcp_save = ModelCheckpoint('model_best.hdf5', save_best_only=True, monitor='val_loss', mode='min')\n",
        "history = model.fit(X_train, y_train, epochs=15, batch_size=8, validation_data=(X_test,y_test), callbacks=[mcp_save])"
      ],
      "execution_count": 19,
      "outputs": [
        {
          "output_type": "stream",
          "name": "stdout",
          "text": [
            "Epoch 1/15\n",
            "414/414 [==============================] - 22s 49ms/step - loss: 0.8676 - acc: 0.6131 - val_loss: 0.9097 - val_acc: 0.5877\n",
            "Epoch 2/15\n",
            "414/414 [==============================] - 20s 48ms/step - loss: 0.7062 - acc: 0.7010 - val_loss: 0.6700 - val_acc: 0.7104\n",
            "Epoch 3/15\n",
            "414/414 [==============================] - 21s 51ms/step - loss: 0.6054 - acc: 0.7535 - val_loss: 0.5475 - val_acc: 0.7780\n",
            "Epoch 4/15\n",
            "414/414 [==============================] - 20s 49ms/step - loss: 0.5562 - acc: 0.7786 - val_loss: 0.5083 - val_acc: 0.8090\n",
            "Epoch 5/15\n",
            "414/414 [==============================] - 20s 49ms/step - loss: 0.5159 - acc: 0.8010 - val_loss: 0.4843 - val_acc: 0.8196\n",
            "Epoch 6/15\n",
            "414/414 [==============================] - 20s 48ms/step - loss: 0.4803 - acc: 0.8130 - val_loss: 0.4940 - val_acc: 0.8168\n",
            "Epoch 7/15\n",
            "414/414 [==============================] - 20s 48ms/step - loss: 0.4651 - acc: 0.8212 - val_loss: 0.4768 - val_acc: 0.8259\n",
            "Epoch 8/15\n",
            "414/414 [==============================] - 20s 48ms/step - loss: 0.4364 - acc: 0.8372 - val_loss: 0.4741 - val_acc: 0.8224\n",
            "Epoch 9/15\n",
            "414/414 [==============================] - 20s 48ms/step - loss: 0.4396 - acc: 0.8309 - val_loss: 0.4644 - val_acc: 0.8280\n",
            "Epoch 10/15\n",
            "414/414 [==============================] - 20s 49ms/step - loss: 0.4069 - acc: 0.8520 - val_loss: 0.4891 - val_acc: 0.8034\n",
            "Epoch 11/15\n",
            "414/414 [==============================] - 20s 49ms/step - loss: 0.3910 - acc: 0.8487 - val_loss: 0.4816 - val_acc: 0.8295\n",
            "Epoch 12/15\n",
            "414/414 [==============================] - 20s 48ms/step - loss: 0.3643 - acc: 0.8626 - val_loss: 0.4710 - val_acc: 0.8344\n",
            "Epoch 13/15\n",
            "414/414 [==============================] - 20s 49ms/step - loss: 0.3505 - acc: 0.8707 - val_loss: 0.4924 - val_acc: 0.8210\n",
            "Epoch 14/15\n",
            "414/414 [==============================] - 21s 50ms/step - loss: 0.3260 - acc: 0.8801 - val_loss: 0.4773 - val_acc: 0.8337\n",
            "Epoch 15/15\n",
            "414/414 [==============================] - 20s 49ms/step - loss: 0.3151 - acc: 0.8777 - val_loss: 0.5210 - val_acc: 0.8217\n"
          ]
        }
      ]
    },
    {
      "cell_type": "code",
      "source": [
        "from keras.models import load_model\n",
        "model = load_model('/content/model_best.hdf5')"
      ],
      "metadata": {
        "id": "ut5tB8-NC5yX"
      },
      "execution_count": 20,
      "outputs": []
    },
    {
      "cell_type": "code",
      "metadata": {
        "id": "YSqZ50AJC5yY"
      },
      "source": [
        "y_pred = np.argmax(model.predict(X_test), axis=1)\n",
        "y_test_1 = np.argmax(y_test, axis=1)"
      ],
      "execution_count": 21,
      "outputs": []
    },
    {
      "cell_type": "code",
      "metadata": {
        "colab": {
          "base_uri": "https://localhost:8080/"
        },
        "outputId": "8dac328b-ef9a-4f54-edb1-fa196e13cb2a",
        "id": "JgWKQ1aJAz9_"
      },
      "source": [
        "from sklearn.metrics import classification_report\n",
        "#y_pred = np.argmax(y_pred, axis=1)\n",
        "print(classification_report(y_test_1, y_pred))"
      ],
      "execution_count": 22,
      "outputs": [
        {
          "output_type": "stream",
          "name": "stdout",
          "text": [
            "              precision    recall  f1-score   support\n",
            "\n",
            "           0       0.81      0.78      0.79       333\n",
            "           1       0.80      0.82      0.81       587\n",
            "           2       0.88      0.87      0.88       499\n",
            "\n",
            "    accuracy                           0.83      1419\n",
            "   macro avg       0.83      0.82      0.83      1419\n",
            "weighted avg       0.83      0.83      0.83      1419\n",
            "\n"
          ]
        }
      ]
    },
    {
      "cell_type": "code",
      "source": [
        "from sklearn.metrics import confusion_matrix\n",
        "from sklearn.metrics import ConfusionMatrixDisplay\n",
        "confusion_matrix(y_test_1, y_pred)\n",
        "ConfusionMatrixDisplay.from_predictions(y_test_1, y_pred, display_labels = [\"Negative\",\"Neutral\",\"Positive\"] ,cmap = 'Blues')"
      ],
      "metadata": {
        "colab": {
          "base_uri": "https://localhost:8080/",
          "height": 296
        },
        "id": "Hl63vl1xT88E",
        "outputId": "81d033c6-2b2c-4b49-e4f6-bb7938687e2e"
      },
      "execution_count": 23,
      "outputs": [
        {
          "output_type": "execute_result",
          "data": {
            "text/plain": [
              "<sklearn.metrics._plot.confusion_matrix.ConfusionMatrixDisplay at 0x7f030b59ae90>"
            ]
          },
          "metadata": {},
          "execution_count": 23
        },
        {
          "output_type": "display_data",
          "data": {
            "image/png": "[encoded data removed]",
            "text/plain": [
              "<Figure size 432x288 with 2 Axes>"
            ]
          },
          "metadata": {
            "needs_background": "light"
          }
        }
      ]
    }
  ]
}